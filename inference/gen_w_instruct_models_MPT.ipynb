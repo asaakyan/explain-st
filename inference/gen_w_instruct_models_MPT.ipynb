{
 "cells": [
  {
   "cell_type": "code",
   "execution_count": 1,
   "metadata": {},
   "outputs": [],
   "source": [
    "import torch\n",
    "import os\n",
    "import json"
   ]
  },
  {
   "cell_type": "code",
   "execution_count": 2,
   "metadata": {},
   "outputs": [
    {
     "name": "stderr",
     "output_type": "stream",
     "text": [
      "/home/a.saakyan/tmp/ENTER/envs/alpaca/lib/python3.10/site-packages/tqdm/auto.py:21: TqdmWarning: IProgress not found. Please update jupyter and ipywidgets. See https://ipywidgets.readthedocs.io/en/stable/user_install.html\n",
      "  from .autonotebook import tqdm as notebook_tqdm\n"
     ]
    }
   ],
   "source": [
    "os.environ['HF_HOME'] =  \"/mnt/swordfish-pool2/models/\"\n",
    "# os.environ[\"CUDA_VISIBLE_DEVICES\"]=\"2,3\"\n",
    "from transformers import AutoTokenizer, LlamaForCausalLM, GenerationConfig"
   ]
  },
  {
   "attachments": {},
   "cell_type": "markdown",
   "metadata": {},
   "source": [
    "# MPT-7B"
   ]
  },
  {
   "cell_type": "code",
   "execution_count": 9,
   "metadata": {},
   "outputs": [
    {
     "name": "stderr",
     "output_type": "stream",
     "text": [
      "Explicitly passing a `revision` is encouraged when loading a configuration with custom code to ensure no malicious code has been contributed in a newer revision.\n"
     ]
    },
    {
     "name": "stdout",
     "output_type": "stream",
     "text": [
      "Loading the model and tokenizer...\n"
     ]
    },
    {
     "name": "stderr",
     "output_type": "stream",
     "text": [
      "Explicitly passing a `revision` is encouraged when loading a model with custom code to ensure no malicious code has been contributed in a newer revision.\n"
     ]
    },
    {
     "name": "stdout",
     "output_type": "stream",
     "text": [
      "You are using config.init_device='cpu', but you can also use config.init_device=\"meta\" with Composer + FSDP for fast initialization.\n"
     ]
    },
    {
     "name": "stderr",
     "output_type": "stream",
     "text": [
      "Loading checkpoint shards: 100%|██████████| 2/2 [00:20<00:00, 10.13s/it]\n"
     ]
    },
    {
     "data": {
      "text/plain": [
       "MPTForCausalLM(\n",
       "  (transformer): MPTModel(\n",
       "    (wte): SharedEmbedding(50432, 4096)\n",
       "    (emb_drop): Dropout(p=0, inplace=False)\n",
       "    (blocks): ModuleList(\n",
       "      (0-31): 32 x MPTBlock(\n",
       "        (norm_1): LPLayerNorm((4096,), eps=1e-05, elementwise_affine=True)\n",
       "        (attn): MultiheadAttention(\n",
       "          (Wqkv): Linear(in_features=4096, out_features=12288, bias=False)\n",
       "          (out_proj): Linear(in_features=4096, out_features=4096, bias=False)\n",
       "        )\n",
       "        (norm_2): LPLayerNorm((4096,), eps=1e-05, elementwise_affine=True)\n",
       "        (ffn): MPTMLP(\n",
       "          (up_proj): Linear(in_features=4096, out_features=16384, bias=False)\n",
       "          (act): GELU(approximate='none')\n",
       "          (down_proj): Linear(in_features=16384, out_features=4096, bias=False)\n",
       "        )\n",
       "        (resid_attn_dropout): Dropout(p=0, inplace=False)\n",
       "        (resid_ffn_dropout): Dropout(p=0, inplace=False)\n",
       "      )\n",
       "    )\n",
       "    (norm_f): LPLayerNorm((4096,), eps=1e-05, elementwise_affine=True)\n",
       "  )\n",
       ")"
      ]
     },
     "execution_count": 9,
     "metadata": {},
     "output_type": "execute_result"
    }
   ],
   "source": [
    "import transformers\n",
    "dir_of_hf_w = \"mosaicml/mpt-7b-instruct\"\n",
    "print(\"Loading the model and tokenizer...\")\n",
    "config = transformers.AutoConfig.from_pretrained(dir_of_hf_w, trust_remote_code=True)\n",
    "# config.attn_config['attn_impl'] = 'triton'\n",
    "# config.init_device = 'cuda:0,1,2,3' # For fast initialization directly on GPU!\n",
    "# config.init_device = 'cuda:3'\n",
    "\n",
    "model = transformers.AutoModelForCausalLM.from_pretrained(\n",
    "  dir_of_hf_w,\n",
    "  config=config,\n",
    "  # torch_dtype=torch.bfloat16, # Load model weights in bfloat16\n",
    "  trust_remote_code=True,\n",
    "  device_map=\"auto\"\n",
    ")\n",
    "tokenizer = AutoTokenizer.from_pretrained(\"EleutherAI/gpt-neox-20b\")\n",
    "\n",
    "model.eval()"
   ]
  },
  {
   "cell_type": "code",
   "execution_count": null,
   "metadata": {},
   "outputs": [],
   "source": [
    "out_dir = \"../data/gyafc_w_ICHF_alpaca/informal_to_formal\"\n",
    "assert os.path.isdir(out_dir)\n",
    "input_json = \"../data/gyafc_w_ICHF_alpaca/informal_to_formal/test.json\"\n",
    "assert os.path.isfile(input_json)\n",
    "train_file_path = \"../data/gyafc_w_ICHF_alpaca/informal_to_formal/train.json\"\n",
    "assert os.path.isfile(train_file_path)\n",
    "\n",
    "# fs_prompt = construct_few_shot_prompt(train_file_path, n=3)\n",
    "# print(generate_prompt(input=\"test\", fs_prompt=fs_prompt))\n",
    "\n",
    "run_inference(input_json, out_dir, \n",
    "              \"mpt\", model, tokenizer, \n",
    "              n_shots=1, train_file_path=train_file_path,\n",
    "              verbose=False, stop_idx=10000)"
   ]
  },
  {
   "cell_type": "code",
   "execution_count": null,
   "metadata": {},
   "outputs": [],
   "source": [
    "out_dir = \"../data/gyafc_w_ICHF_alpaca/formal_to_informal\"\n",
    "assert os.path.isdir(out_dir)\n",
    "input_json = \"../data/gyafc_w_ICHF_alpaca/formal_to_informal/test.json\"\n",
    "assert os.path.isfile(input_json)\n",
    "train_file_path = \"../data/gyafc_w_ICHF_alpaca/formal_to_informal/train.json\"\n",
    "assert os.path.isfile(train_file_path)\n",
    "\n",
    "run_inference(input_json, out_dir, \n",
    "              \"mpt\", model, tokenizer, \n",
    "              n_shots=1, train_file_path=train_file_path,\n",
    "              verbose=False, stop_idx=10000)"
   ]
  }
 ],
 "metadata": {
  "kernelspec": {
   "display_name": "alpaca",
   "language": "python",
   "name": "python3"
  },
  "language_info": {
   "codemirror_mode": {
    "name": "ipython",
    "version": 3
   },
   "file_extension": ".py",
   "mimetype": "text/x-python",
   "name": "python",
   "nbconvert_exporter": "python",
   "pygments_lexer": "ipython3",
   "version": "3.10.10"
  },
  "orig_nbformat": 4
 },
 "nbformat": 4,
 "nbformat_minor": 2
}
