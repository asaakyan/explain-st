{
 "cells": [
  {
   "cell_type": "code",
   "execution_count": 1,
   "metadata": {},
   "outputs": [],
   "source": [
    "import os\n",
    "import pandas as pd\n",
    "import torch\n",
    "import numpy as np\n",
    "os.environ[\"TRANSFORMERS_CACHE\"]=\"/mnt/swordfish-pool2/models/transformers_cache\""
   ]
  },
  {
   "cell_type": "code",
   "execution_count": 2,
   "metadata": {},
   "outputs": [],
   "source": [
    "from mutual_implication_score import MIS\n",
    "mis = MIS(device='cuda:0')\n",
    "\n",
    "from transformers import AutoTokenizer, AutoModelForSequenceClassification\n",
    "\n",
    "tokenizer = AutoTokenizer.from_pretrained(\"s-nlp/roberta-base-formality-ranker\")\n",
    "roberta_model = AutoModelForSequenceClassification.from_pretrained(\"s-nlp/roberta-base-formality-ranker\")\n",
    "\n",
    "def get_formality_score(txt, tokenizer, model, class_name=\"formal\"):\n",
    "    if not txt: return 0\n",
    "    inputs = tokenizer(txt, return_tensors=\"pt\")\n",
    "    with torch.no_grad():\n",
    "        logits = model(**inputs).logits\n",
    "    if class_name == \"formal\":\n",
    "        return torch.sigmoid(logits)[0][1].item()\n",
    "    return torch.sigmoid(logits)[0][0].item()"
   ]
  },
  {
   "cell_type": "code",
   "execution_count": 7,
   "metadata": {},
   "outputs": [
    {
     "name": "stdout",
     "output_type": "stream",
     "text": [
      "Informality Score 0.5474961273486213\n"
     ]
    },
    {
     "data": {
      "application/vnd.jupyter.widget-view+json": {
       "model_id": "da4565b303be4de4813de4ffb257c4ba",
       "version_major": 2,
       "version_minor": 0
      },
      "text/plain": [
       "  0%|          | 0/123 [00:00<?, ?it/s]"
      ]
     },
     "metadata": {},
     "output_type": "display_data"
    },
    {
     "name": "stdout",
     "output_type": "stream",
     "text": [
      "SELF-MIS 0.8533673458977374\n"
     ]
    }
   ],
   "source": [
    "data_dir = \"/home/a.saakyan/projects/st/data/gyafc_w_ICHF_alpaca/formal_to_informal\"\n",
    "alpaca_out = f\"{data_dir}/alpaca_fif_noexpl_test_output.json\"\n",
    "alpaca_df = pd.read_json(alpaca_out, lines=False)\n",
    "\n",
    "alpaca_df[\"informality_score\"] = alpaca_df[\"pred\"].apply(lambda x: \n",
    "                            get_formality_score(x.split(\"Informal: \")[1], \n",
    "                            tokenizer, \n",
    "                            roberta_model,\n",
    "                            class_name=\"informal\"))\n",
    "print(\"Informality Score\", alpaca_df[\"informality_score\"].mean())\n",
    "\n",
    "self_mis = mis.compute(alpaca_df[\"input\"].apply(lambda x: x.split(\"Formal: \")[1]).tolist(), \n",
    "                    alpaca_df[\"pred\"].apply(lambda x: x.split(\"Informal: \")[1]).tolist() )\n",
    "print(\"SELF-MIS\", np.mean(self_mis))  "
   ]
  },
  {
   "cell_type": "code",
   "execution_count": 8,
   "metadata": {},
   "outputs": [
    {
     "name": "stdout",
     "output_type": "stream",
     "text": [
      "Formality Score 0.9110360386344243\n"
     ]
    },
    {
     "data": {
      "application/vnd.jupyter.widget-view+json": {
       "model_id": "c68626822e1041e8b80b471981879335",
       "version_major": 2,
       "version_minor": 0
      },
      "text/plain": [
       "  0%|          | 0/123 [00:00<?, ?it/s]"
      ]
     },
     "metadata": {},
     "output_type": "display_data"
    },
    {
     "name": "stdout",
     "output_type": "stream",
     "text": [
      "SELF-MIS 0.8320098246390722\n"
     ]
    }
   ],
   "source": [
    "data_dir = \"/home/a.saakyan/projects/st/data/gyafc_w_ICHF_alpaca/informal_to_formal\"\n",
    "alpaca_out = f\"{data_dir}/alpaca_noexpl_test_output.json\"\n",
    "alpaca_df = pd.read_json(alpaca_out, lines=False)\n",
    "\n",
    "alpaca_df[\"formality_score\"] = alpaca_df[\"pred\"].apply(lambda x: \n",
    "                            get_formality_score(x.split(\"Formal: \")[1], \n",
    "                            tokenizer, \n",
    "                            roberta_model))\n",
    "print(\"Formality Score\", alpaca_df[\"formality_score\"].mean())\n",
    "\n",
    "self_mis = mis.compute(alpaca_df[\"input\"].apply(lambda x: x.split(\"Informal: \")[1]).tolist(), \n",
    "                    alpaca_df[\"pred\"].apply(lambda x: x.split(\"Formal: \")[1]).tolist() )\n",
    "print(\"SELF-MIS\", np.mean(self_mis))  "
   ]
  }
 ],
 "metadata": {
  "kernelspec": {
   "display_name": "alpaca",
   "language": "python",
   "name": "python3"
  },
  "language_info": {
   "codemirror_mode": {
    "name": "ipython",
    "version": 3
   },
   "file_extension": ".py",
   "mimetype": "text/x-python",
   "name": "python",
   "nbconvert_exporter": "python",
   "pygments_lexer": "ipython3",
   "version": "3.10.10"
  },
  "orig_nbformat": 4
 },
 "nbformat": 4,
 "nbformat_minor": 2
}
